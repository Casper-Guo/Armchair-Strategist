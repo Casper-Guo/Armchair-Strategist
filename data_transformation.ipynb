{
 "cells": [
  {
   "cell_type": "code",
   "execution_count": 5,
   "metadata": {},
   "outputs": [],
   "source": [
    "import fastf1 as f\n",
    "import numpy as np\n",
    "import pandas as pd\n",
    "import matplotlib.pyplot as plt\n",
    "import seaborn as sns\n",
    "import os\n",
    "import tomli"
   ]
  },
  {
   "cell_type": "code",
   "execution_count": 6,
   "metadata": {},
   "outputs": [],
   "source": [
    "with open(\"Data/compound_selection.toml\", \"rb\") as toml:\n",
    "    compound_selection = tomli.load(toml)"
   ]
  },
  {
   "cell_type": "code",
   "execution_count": 11,
   "metadata": {},
   "outputs": [],
   "source": [
    "cache_path = os.getcwd() + \"/Cache\"\n",
    "f.Cache.enable_cache(cache_path)"
   ]
  },
  {
   "cell_type": "markdown",
   "metadata": {},
   "source": [
    "## Load Dataframes"
   ]
  },
  {
   "cell_type": "code",
   "execution_count": 12,
   "metadata": {},
   "outputs": [],
   "source": [
    "def read_csv(path):\n",
    "    '''\n",
    "    Read csv file at path location and filter for relevant columns\n",
    "\n",
    "    Requires:\n",
    "    csv file located at path location is derived from a fastf1 laps object\n",
    "    '''\n",
    "\n",
    "    return pd.read_csv(path, \n",
    "                       header=0, \n",
    "                       true_values=[\"TRUE\"], \n",
    "                       false_values=[\"FALSE\"],\n",
    "                       usecols=[\"Time\", \"DriverNumber\", \"LapTime\", \"LapNumber\", \"Stint\", \n",
    "                                \"PitOutTime\", \"PitInTime\", \"Compound\", \"TyreLife\", \"FreshTyre\", \n",
    "                                \"Team\", \"Driver\", \"TrackStatus\", \"IsAccurate\", \"RoundNumber\", \n",
    "                                \"EventName\"]\n",
    "                        )"
   ]
  },
  {
   "cell_type": "code",
   "execution_count": 13,
   "metadata": {},
   "outputs": [],
   "source": [
    "def convert_timedelta(df_laps):\n",
    "    '''\n",
    "    Requires: \n",
    "    df_laps has the following columns: [\"Time\", \"LapTime\", \"PitInTime\", \"PitOutTime\"]\n",
    "    '''\n",
    "\n",
    "    df_laps[[\"Time\", \"LapTime\", \"PitInTime\", \"PitOutTime\"]] = df_laps[[\"Time\", \"LapTime\", \"PitInTime\", \"PitOutTime\"]].apply(pd.to_timedelta)\n",
    "    df_laps[\"LapTime\"] = df_laps[\"LapTime\"].apply(pd.Timedelta.total_seconds())\n",
    "\n",
    "    return df_laps"
   ]
  },
  {
   "cell_type": "code",
   "execution_count": 14,
   "metadata": {},
   "outputs": [],
   "source": [
    "def load_laps():\n",
    "    df_dict = {}\n",
    "    data_files = [file for file in os.listdir(\"Data\") if os.path.isfile(\"Data/\"+file)]\n",
    "\n",
    "    for file in data_files:\n",
    "        if file.startswith(\"all\"):\n",
    "            year = file.split(\"_\")[2]\n",
    "            year = int(year[:year.find(\".\")])\n",
    "            df = read_csv(\"Data/\" + file)\n",
    "            convert_timedelta(df)\n",
    "            df_dict[year] = df\n",
    "\n",
    "    return df_dict"
   ]
  },
  {
   "cell_type": "markdown",
   "metadata": {},
   "source": [
    "## Data Transformation"
   ]
  },
  {
   "cell_type": "markdown",
   "metadata": {},
   "source": [
    "### Add Tyre Information Columns"
   ]
  },
  {
   "cell_type": "code",
   "execution_count": null,
   "metadata": {},
   "outputs": [],
   "source": [
    "def add_is_slick(df_laps):\n",
    "    '''\n",
    "    Requires:\n",
    "    df_laps has the following column: [\"Compound\"]\n",
    "    '''\n",
    "    \n",
    "    df_laps[\"IsSlick\"] = df_laps[\"Compound\"].apply(lambda x: x in [\"SOFT\", \"MEDIUM\", \"HARD\"])\n",
    "\n",
    "    return None"
   ]
  },
  {
   "attachments": {},
   "cell_type": "markdown",
   "metadata": {},
   "source": [
    "FastF1 provides relative compound information (soft, medium, hard) as the `Compound` column in its `Laps` objects\n",
    "\n",
    "The actual compound names (C1, C2, C3 etc. or ultrasoft, supersoft etc.) needs to be added to maintain consistency. These will be recorded in the `CompoundName` column."
   ]
  },
  {
   "cell_type": "code",
   "execution_count": null,
   "metadata": {},
   "outputs": [],
   "source": [
    "def add_compound_name(df_laps, compound_selection, year):\n",
    "    '''\n",
    "    Requires:\n",
    "    df_laps has the following columns: [\"Compound\", \"RoundNumber\"]\n",
    "\n",
    "    Assumes:\n",
    "        - all data contained in compound_selection is from the same season \n",
    "        - df_laps contain data from the same season as compound_selection\n",
    "    '''\n",
    "    \n",
    "    def convert_compound_name(row):\n",
    "        if year == 2018:\n",
    "            compound_to_index = {\"SOFT\":0, \"MEDIUM\":1, \"HARD\":2}\n",
    "        else:\n",
    "            compound_to_index = {\"SOFT\":2, \"MEDIUM\":1, \"HARD\":0}\n",
    "\n",
    "        try:\n",
    "            if row.loc[\"Compound\"] not in compound_to_index:\n",
    "                return row.loc[\"Compound\"]\n",
    "            else:\n",
    "                return compound_selection[str(row.loc[\"RoundNumber\"])][compound_to_index[row.loc[\"Compound\"]]]\n",
    "        except:\n",
    "            # error handling for when compound_selection.toml is not up-to-date\n",
    "            print(\"Compound selection record is missing for round \" + str(row.loc[\"RoundNumber\"]))\n",
    "\n",
    "            # terminate cell \n",
    "            assert False\n",
    "\n",
    "    df_laps[\"CompoundName\"] = df_laps.apply(convert_compound_name, axis=1)\n",
    "\n",
    "    return df_laps"
   ]
  },
  {
   "cell_type": "markdown",
   "metadata": {},
   "source": [
    "### Add Timing Columns\n"
   ]
  },
  {
   "attachments": {},
   "cell_type": "markdown",
   "metadata": {},
   "source": [
    "A *representative lap time* is calculated by finding the median of the laps that meet the following condition:\n",
    "\n",
    "- Raced on slick tyres (`IsSlick = True`).\n",
    "- `IsAccurate = True`, see definition [here](https://theoehrly.github.io/Fast-F1/core.html#fastf1.core.Laps)\n",
    "- Is completed under green flag (`TrackStatus == 1`), note that this definition is stricter than the one used for `IsAccurate`\n",
    "\n",
    "Define *valid laps* as the laps that meet all above conditions. This is recorded in the new `IsValid` column.\n",
    "\n",
    "The fastest lap time for the session is the fastest time out of the laps where `IsPersonalBest = True` ([definition](https://theoehrly.github.io/Fast-F1/core.html#laps)). Note that this is the same definiton used by the FastF1 `pick_fastest()` method.\n",
    "\n",
    "Using these two times as benchmarks, the following columns are added:\n",
    "\n",
    "- `DeltaToRep`\n",
    "- `DeltaToFastest`\n",
    "- `PctFromRep`\n",
    "- `PctFromFastest`\n",
    "\n",
    "**Caveat**: Metrics are invalid for wet races"
   ]
  },
  {
   "cell_type": "code",
   "execution_count": null,
   "metadata": {},
   "outputs": [],
   "source": [
    "def add_is_valid(df_laps):\n",
    "    '''\n",
    "    Requires:\n",
    "    df_laps has the following columns: [\"IsSlick\", \"IsAccurate\", \"TrackStatus\"]\n",
    "    '''\n",
    "\n",
    "    def check_lap_valid(row):\n",
    "        return row.loc[\"IsSlick\"] and row.loc[\"IsAccurate\"] and row.loc[\"TrackStatus\"] == 1\n",
    "\n",
    "    df_laps[\"IsValid\"] = df_laps.apply(check_lap_valid, axis=1)\n",
    "\n",
    "    return df_laps"
   ]
  },
  {
   "cell_type": "code",
   "execution_count": 27,
   "metadata": {},
   "outputs": [],
   "source": [
    "def find_rep_times(df_laps):\n",
    "    '''\n",
    "    Requires:\n",
    "    df_laps has the following columns: [\"RoundNumber\", \"IsValid\", \"LapTime\"]\n",
    "    '''\n",
    "\n",
    "    rounds = df_laps[\"RoundNumber\"].unique()\n",
    "    rep_times = {}\n",
    "\n",
    "    for round_number in rounds:\n",
    "        rep_times[round_number] = df_laps[(df_laps[\"RoundNumber\"] == round_number) & (df_laps[\"IsValid\"] == True)][\"LapTime\"].median()\n",
    "\n",
    "    return rep_times\n",
    "\n",
    "def add_rep_deltas(df_laps):\n",
    "    '''\n",
    "    Requires:\n",
    "    df_laps has the following columns: [\"RoundNumber\", \"IsValid\", \"LapTime\"]\n",
    "    '''\n",
    "\n",
    "    rep_times = find_rep_times(df_laps)\n",
    "    \n",
    "    def delta_to_rep(row):\n",
    "        return row.loc[\"LapTime\"] - rep_times[row.loc[\"RoundNumber\"]]\n",
    "\n",
    "    def pct_from_rep(row):\n",
    "        delta = row.loc[\"LapTime\"] - rep_times[row.loc[\"RoundNumber\"]]\n",
    "        return round(delta / rep_times[row.loc[\"RoundNumber\"]] * 100, 3)\n",
    "\n",
    "    df_laps[\"DeltaToRep\"] = df_laps.apply(delta_to_rep, axis=1)\n",
    "    df_laps[\"PctFromRep\"] = df_laps.apply(pct_from_rep, axis=1)\n",
    "\n",
    "    return df_laps\n",
    "\n",
    "        "
   ]
  },
  {
   "cell_type": "code",
   "execution_count": null,
   "metadata": {},
   "outputs": [],
   "source": [
    "def find_fastest_times(df_laps):\n",
    "    '''\n",
    "    Requires:\n",
    "    df_laps has the following columns: [\"RoundNumber\", \"IsPersonalBest\", \"LapTime\"]\n",
    "    '''\n",
    "\n",
    "    rounds = df_laps[\"RoundNumber\"].unique()\n",
    "    fastest_times = {}\n",
    "\n",
    "    for round_number in rounds:\n",
    "        fastest_times[round_number] = df_laps[(df_laps[\"RoundNumber\"] == round_number) & (df_laps[\"IsPersonalBest\"] == True)][\"LapTime\"].median()\n",
    "    \n",
    "    return fastest_times\n",
    "\n",
    "def add_fastest_deltas(df_laps):\n",
    "    '''\n",
    "    Requires:\n",
    "    df_laps has the following columns: [\"RoundNumber\", \"IsPersonalBest\", \"LapTime\"]\n",
    "    '''\n",
    "\n",
    "    fastest_times = find_rep_times(df_laps)\n",
    "    \n",
    "    def delta_to_fastest(row):\n",
    "        return row.loc[\"LapTime\"] - fastest_times[row.loc[\"RoundNumber\"]]\n",
    "\n",
    "    def pct_from_fastest(row):\n",
    "        delta = row.loc[\"LapTime\"] - fastest_times[row.loc[\"RoundNumber\"]]\n",
    "        return round(delta / fastest_times[row.loc[\"RoundNumber\"]] * 100, 3)\n",
    "\n",
    "    df_laps[\"DeltaToFastest\"] = df_laps.apply(delta_to_fastest, axis=1)\n",
    "    df_laps[\"PctFromFastest\"] = df_laps.apply(pct_from_fastest, axis=1)\n",
    "\n",
    "    return df_laps"
   ]
  },
  {
   "attachments": {},
   "cell_type": "markdown",
   "metadata": {},
   "source": [
    "Track evolution and diminishing fuel load have significant influences on lap times.\n",
    "\n",
    "The following columns are added to control for these confounding factors. Instead of comparing the lap times to a representative time for the entire event, they will be compared against a representative time at the same stage of the Grand Prix:\n",
    "\n",
    "- `DeltaToLapRep`\n",
    "- `PctFromLapRep`\n",
    "\n",
    "The definition for the per lap representative lap times is the same as the definition for the event representative lap time."
   ]
  },
  {
   "cell_type": "code",
   "execution_count": null,
   "metadata": {},
   "outputs": [],
   "source": [
    "def find_lap_reps(df_laps):\n",
    "    '''\n",
    "    Requires:\n",
    "    df_laps has the following columns: [\"RoundNumber\", \"LapNumber\", \"IsValid\", \"LapTime\"]\n",
    "    '''\n",
    "    \n",
    "    lap_reps = {}\n",
    "\n",
    "    for round_number in df_laps[\"RoundNumber\"].unique():\n",
    "        round_lap_reps = {}\n",
    "        round_laps = df_laps[(df_laps[\"RoundNumber\"] == round_number) & (df_laps[\"IsValid\"] == True)]\n",
    "\n",
    "        for lap_number in round_laps[\"LapNumber\"].unique():\n",
    "            round_lap_reps[lap_number] = round_laps[round_laps[\"LapNumber\"] == lap][\"LapTime\"].median()\n",
    "        \n",
    "        lap_reps[round_number] = round_lap_reps\n",
    "\n",
    "    return lap_reps\n",
    "\n",
    "def add_lap_rep_deltas(df_laps):\n",
    "    '''\n",
    "    Requires:\n",
    "    df_laps has the following columns: [\"RoundNumber\", \"LapNumber\", \"IsValid\", \"LapTime\"]\n",
    "    '''\n",
    "\n",
    "    lap_reps = find_lap_reps(df_laps)\n",
    "\n",
    "    def delta_to_lap_rep(row):\n",
    "        return row.loc[\"LapTime\"] - lap_reps[row.loc[\"RoundNumber\"]][row.loc[\"LapNumber\"]]\n",
    "\n",
    "    def pct_from_lap_rep(row):\n",
    "        delta = row.loc[\"LapTime\"] - lap_reps[row.loc[\"RoundNumber\"]][row.loc[\"LapNumber\"]]\n",
    "        return round(delta / lap_reps[row.loc[\"RoundNumber\"]][row.loc[\"LapNumber\"]] * 100, 3)\n",
    "\n",
    "    df_laps[\"DeltaToLapRep\"] = df_laps.apply(delta_to_lap_rep, axis=1)\n",
    "    df_laps[\"PctFromLapRep\"] = df_laps.apply(pct_from_lap_rep, axis=1)\n",
    "\n",
    "    return df_laps\n",
    "    "
   ]
  }
 ],
 "metadata": {
  "kernelspec": {
   "display_name": "base",
   "language": "python",
   "name": "python3"
  },
  "language_info": {
   "codemirror_mode": {
    "name": "ipython",
    "version": 3
   },
   "file_extension": ".py",
   "mimetype": "text/x-python",
   "name": "python",
   "nbconvert_exporter": "python",
   "pygments_lexer": "ipython3",
   "version": "3.8.5"
  },
  "vscode": {
   "interpreter": {
    "hash": "e78b6b4158d8f577a77be3bef6c4f5889b406541923fa59adc2e6c48950512fc"
   }
  }
 },
 "nbformat": 4,
 "nbformat_minor": 4
}
