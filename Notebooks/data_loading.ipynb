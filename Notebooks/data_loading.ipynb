{
 "cells": [
  {
   "cell_type": "code",
   "execution_count": null,
   "metadata": {},
   "outputs": [],
   "source": [
    "import pandas as pd \n",
    "import fastf1 as f \n",
    "from pathlib import Path\n",
    "from datetime import datetime"
   ]
  },
  {
   "cell_type": "code",
   "execution_count": null,
   "metadata": {},
   "outputs": [],
   "source": [
    "parent_path = Path.cwd().parent"
   ]
  },
  {
   "cell_type": "code",
   "execution_count": null,
   "metadata": {},
   "outputs": [],
   "source": [
    "cache_path = parent_path / \"Cache\"\n",
    "print(f'A cache for loading FastF1 data will be created in this directory: {cache_path}')\n",
    "\n",
    "Path.mkdir(cache_path, exist_ok=True)\n",
    "\n",
    "f.Cache.enable_cache(cache_path)"
   ]
  },
  {
   "cell_type": "code",
   "execution_count": null,
   "metadata": {},
   "outputs": [],
   "source": [
    "data_path = parent_path / \"Data\"\n",
    "print(f\"Relevant data and CSV files will be stored in this directory: {data_path}\")\n",
    "\n",
    "Path.mkdir(data_path, exist_ok=True)"
   ]
  },
  {
   "cell_type": "code",
   "execution_count": null,
   "metadata": {},
   "outputs": [],
   "source": [
    "pause = input(\"You can optionally configure which seasons' data to update in this cell. The default (enter nothing) is to update all seasons starting from 2018.\")\n",
    "\n",
    "current_season = 2023\n",
    "\n",
    "# enter the seasons whose data you wish to load here, separated by commas \n",
    "# example: load_seasons = [2021, 2022]\n",
    "load_seasons = []\n",
    "\n",
    "if load_seasons == []:\n",
    "    load_seasons = list(range(2018, current_season + 1))"
   ]
  },
  {
   "cell_type": "code",
   "execution_count": null,
   "metadata": {},
   "outputs": [],
   "source": [
    "num_rounds = {2018:21, 2019:21, 2020:17, 2021:22, 2022:22, 2023:24}\n",
    "\n",
    "current_schedule = f.get_event_schedule(current_season)\n",
    "rounds_completed = current_schedule[current_schedule[\"EventDate\"] < datetime.now()][\"RoundNumber\"].max()\n",
    "\n",
    "if pd.isna(rounds_completed):\n",
    "    rounds_completed = 0\n",
    "\n",
    "print(f\"Correctness Check: {rounds_completed} rounds of the {current_season} season have been completed\")\n",
    "num_rounds[current_season] = rounds_completed"
   ]
  },
  {
   "cell_type": "code",
   "execution_count": null,
   "metadata": {},
   "outputs": [],
   "source": [
    "def load_all_data(season, path):\n",
    "    # assumes there is no data for the season yet\n",
    "    # data will be stored at the location specified by path as a csv\n",
    "\n",
    "    race_dfs = []\n",
    "    schedule = f.get_event_schedule(season)\n",
    "\n",
    "    for i in range(1, num_rounds[season] + 1):\n",
    "        race = f.get_session(season, i, 'R')\n",
    "        race.load()\n",
    "        laps = race.laps\n",
    "        laps[\"RoundNumber\"] = i\n",
    "        laps[\"EventName\"] = schedule[schedule[\"RoundNumber\"] == i][\"EventName\"].item()\n",
    "        race_dfs.append(laps)\n",
    "    \n",
    "    if race_dfs:\n",
    "        all_laps = pd.concat(race_dfs, ignore_index=True)\n",
    "        all_laps.to_csv(path, index=False)\n",
    "        print(f\"Finished loading {season} season data.\")\n",
    "    else:\n",
    "        print(f\"No data available for {season} season yet.\")\n",
    "        \n",
    "    return None"
   ]
  },
  {
   "cell_type": "code",
   "execution_count": null,
   "metadata": {},
   "outputs": [],
   "source": [
    "def update_data(season, path):\n",
    "    existing_data = pd.read_csv(path, index_col=0, header=0)\n",
    "\n",
    "    schedule = f.get_event_schedule(season)\n",
    "\n",
    "    loaded_rounds = set(pd.unique(existing_data[\"RoundNumber\"]))\n",
    "    newest_round = num_rounds[season]\n",
    "    all_rounds = set(range(1, newest_round + 1))\n",
    "\n",
    "    missing_rounds = all_rounds.difference(loaded_rounds)\n",
    "\n",
    "    if not missing_rounds:\n",
    "        print(f\"{season} season is already up to date.\")\n",
    "        return None\n",
    "    else:\n",
    "        # correctness check \n",
    "        print(\"Existing coverage: \", loaded_rounds)\n",
    "        print(\"Coverage to be added: \", missing_rounds)\n",
    "\n",
    "    race_dfs = []\n",
    "\n",
    "    for i in missing_rounds:\n",
    "        race = f.get_session(2023, i, 'R')\n",
    "\n",
    "        try:\n",
    "            race.load()\n",
    "        except:\n",
    "            # Handles FastF1 errors\n",
    "            print(f\"Cannot load {race}\")\n",
    "\n",
    "        laps = race.laps\n",
    "        laps[\"RoundNumber\"] = i\n",
    "        laps[\"EventName\"] = schedule.loc[schedule[\"RoundNumber\"] == i][\"EventName\"].item()\n",
    "        race_dfs.append(laps)\n",
    "\n",
    "    all_laps = pd.concat(race_dfs, ignore_index=True)\n",
    "    \n",
    "    all_laps.to_csv(path, 'a', index=False, header=False)\n",
    "\n",
    "    print(f\"Finished updating {season} season data.\")\n",
    "    return None    "
   ]
  },
  {
   "cell_type": "code",
   "execution_count": null,
   "metadata": {},
   "outputs": [],
   "source": [
    "for season in load_seasons:\n",
    "    path = parent_path / \"Data\" / (\"all_laps_\" + str(season) + \".csv\")\n",
    "    \n",
    "    if Path.is_file(path):\n",
    "        update_data(season, path)\n",
    "    else:\n",
    "        load_all_data(season, path)"
   ]
  }
 ],
 "metadata": {
  "kernelspec": {
   "display_name": "Python 3.8.5 ('base')",
   "language": "python",
   "name": "python3"
  },
  "language_info": {
   "codemirror_mode": {
    "name": "ipython",
    "version": 3
   },
   "file_extension": ".py",
   "mimetype": "text/x-python",
   "name": "python",
   "nbconvert_exporter": "python",
   "pygments_lexer": "ipython3",
   "version": "3.8.15"
  },
  "vscode": {
   "interpreter": {
    "hash": "e78b6b4158d8f577a77be3bef6c4f5889b406541923fa59adc2e6c48950512fc"
   }
  }
 },
 "nbformat": 4,
 "nbformat_minor": 4
}
