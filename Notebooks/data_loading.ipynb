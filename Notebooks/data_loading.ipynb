{
 "cells": [
  {
   "cell_type": "code",
   "execution_count": null,
   "metadata": {},
   "outputs": [],
   "source": [
    "import pandas as pd\n",
    "import fastf1 as f\n",
    "from pathlib import Path\n",
    "from datetime import datetime, timezone, timedelta\n",
    "import logging\n",
    "\n",
    "logging.basicConfig(\n",
    "    level=logging.INFO, format=\"%(levelname)s\\t%(filename)s\\t%(message)s\"\n",
    ")"
   ]
  },
  {
   "cell_type": "code",
   "execution_count": null,
   "metadata": {},
   "outputs": [],
   "source": [
    "parent_path = Path.cwd().parent"
   ]
  },
  {
   "cell_type": "code",
   "execution_count": null,
   "metadata": {},
   "outputs": [],
   "source": [
    "data_path = parent_path / \"Data\"\n",
    "logging.info(\n",
    "    f\"Relevant data and CSV files will be stored in this directory: {data_path}\"\n",
    ")\n",
    "\n",
    "Path.mkdir(data_path, exist_ok=True)"
   ]
  },
  {
   "cell_type": "code",
   "execution_count": null,
   "metadata": {},
   "outputs": [],
   "source": [
    "pause = input(\n",
    "    \"You can optionally configure which seasons' data to update in this cell. The default (enter nothing) is to update all seasons starting from 2018.\"\n",
    ")\n",
    "\n",
    "current_season = 2023\n",
    "\n",
    "# enter the seasons whose data you wish to load here, separated by commas\n",
    "# example: load_seasons = [2021, 2022]\n",
    "load_seasons = []\n",
    "\n",
    "if load_seasons == []:\n",
    "    load_seasons = list(range(2018, current_season + 1))"
   ]
  },
  {
   "cell_type": "code",
   "execution_count": null,
   "metadata": {},
   "outputs": [],
   "source": [
    "num_rounds = {2018: 21, 2019: 21, 2020: 17, 2021: 22, 2022: 22, 2023: 24}\n",
    "\n",
    "current_schedule = f.get_event_schedule(current_season)\n",
    "five_hours_past = (datetime.now(timezone.utc) - timedelta(hours=5)).replace(tzinfo=None)\n",
    "rounds_completed = current_schedule[\n",
    "    current_schedule[\"Session5DateUtc\"] < five_hours_past\n",
    "][\"RoundNumber\"].max()\n",
    "\n",
    "if pd.isna(rounds_completed):\n",
    "    rounds_completed = 0\n",
    "\n",
    "logging.info(\n",
    "    f\"Correctness Check: {rounds_completed} rounds of the {current_season} season have been completed\"\n",
    ")\n",
    "num_rounds[current_season] = rounds_completed"
   ]
  },
  {
   "cell_type": "code",
   "execution_count": null,
   "metadata": {},
   "outputs": [],
   "source": [
    "def load_all_data(season: int, path: Path):\n",
    "    \"\"\"Load all available data in a season.\n",
    "\n",
    "    Assumes:\n",
    "        None of the data for the season is already loaded.\n",
    "\n",
    "    Args:\n",
    "        season: The season to load\n",
    "        path: The path to a csv file where the data will be stored.\n",
    "    \"\"\"\n",
    "    race_dfs = []\n",
    "    schedule = f.get_event_schedule(season)\n",
    "\n",
    "    for i in range(1, num_rounds[season] + 1):\n",
    "        race = f.get_session(season, i, \"R\")\n",
    "        race.load(telemetry=False)\n",
    "        laps = race.laps\n",
    "        laps[\"RoundNumber\"] = i\n",
    "        laps[\"EventName\"] = schedule[schedule[\"RoundNumber\"] == i][\"EventName\"].item()\n",
    "        race_dfs.append(laps)\n",
    "\n",
    "    if race_dfs:\n",
    "        all_laps = pd.concat(race_dfs, ignore_index=True)\n",
    "        all_laps.to_csv(path, index=False)\n",
    "        logging.info(f\"Finished loading {season} season data.\")\n",
    "    else:\n",
    "        logging.info(f\"No data available for {season} season yet.\")\n",
    "\n",
    "    return None"
   ]
  },
  {
   "cell_type": "code",
   "execution_count": null,
   "metadata": {},
   "outputs": [],
   "source": [
    "def update_data(season: int, path: Path):\n",
    "    \"\"\"Update the data for a season.\n",
    "    Assumes:\n",
    "        Some of that season's data is already loaded.\n",
    "\n",
    "    Args:\n",
    "        season: The season to update.\n",
    "        path: The path to a csv file where some of that season's data\n",
    "        should already by loaded.\n",
    "    \"\"\"\n",
    "    existing_data = pd.read_csv(path, index_col=0, header=0)\n",
    "\n",
    "    schedule = f.get_event_schedule(season)\n",
    "\n",
    "    loaded_rounds = set(pd.unique(existing_data[\"RoundNumber\"]))\n",
    "    newest_round = num_rounds[season]\n",
    "    all_rounds = set(range(1, newest_round + 1))\n",
    "\n",
    "    missing_rounds = all_rounds.difference(loaded_rounds)\n",
    "\n",
    "    if not missing_rounds:\n",
    "        logging.info(f\"{season} season is already up to date.\")\n",
    "        return None\n",
    "    else:\n",
    "        # correctness check\n",
    "        logging.info(\"Existing coverage: \", loaded_rounds)\n",
    "        logging.info(\"Coverage to be added: \", missing_rounds)\n",
    "\n",
    "    race_dfs = []\n",
    "\n",
    "    for i in missing_rounds:\n",
    "        race = f.get_session(2023, i, \"R\")\n",
    "\n",
    "        try:\n",
    "            race.load(telemetry=False)\n",
    "        except:\n",
    "            # Handles FastF1 errors\n",
    "            logging.warning(f\"Cannot load {race}\")\n",
    "\n",
    "        laps = race.laps\n",
    "        laps[\"RoundNumber\"] = i\n",
    "        laps[\"EventName\"] = schedule.loc[schedule[\"RoundNumber\"] == i][\n",
    "            \"EventName\"\n",
    "        ].item()\n",
    "        race_dfs.append(laps)\n",
    "\n",
    "    all_laps = pd.concat(race_dfs, ignore_index=True)\n",
    "\n",
    "    all_laps.to_csv(path, \"a\", index=False, header=False)\n",
    "\n",
    "    logging.info(f\"Finished updating {season} season data.\")\n",
    "    return None"
   ]
  },
  {
   "cell_type": "code",
   "execution_count": null,
   "metadata": {},
   "outputs": [],
   "source": [
    "for season in load_seasons:\n",
    "    path = parent_path / \"Data\" / (\"all_laps_\" + str(season) + \".csv\")\n",
    "\n",
    "    if Path.is_file(path):\n",
    "        update_data(season, path)\n",
    "    else:\n",
    "        load_all_data(season, path)"
   ]
  }
 ],
 "metadata": {
  "kernelspec": {
   "display_name": "Python 3.8.5 ('base')",
   "language": "python",
   "name": "python3"
  },
  "language_info": {
   "codemirror_mode": {
    "name": "ipython",
    "version": 3
   },
   "file_extension": ".py",
   "mimetype": "text/x-python",
   "name": "python",
   "nbconvert_exporter": "python",
   "pygments_lexer": "ipython3",
   "version": "3.11.2"
  },
  "vscode": {
   "interpreter": {
    "hash": "e78b6b4158d8f577a77be3bef6c4f5889b406541923fa59adc2e6c48950512fc"
   }
  }
 },
 "nbformat": 4,
 "nbformat_minor": 4
}
