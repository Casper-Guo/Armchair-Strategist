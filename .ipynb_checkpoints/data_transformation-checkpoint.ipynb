{
 "cells": [
  {
   "cell_type": "code",
   "execution_count": 1,
   "metadata": {},
   "outputs": [],
   "source": [
    "import numpy as np\n",
    "import pandas as pd\n",
    "import matplotlib.pyplot as plt\n",
    "import seaborn as sns\n",
    "import fastf1 as f\n",
    "import import_ipynb"
   ]
  },
  {
   "cell_type": "code",
   "execution_count": 2,
   "metadata": {},
   "outputs": [],
   "source": [
    "f.Cache.enable_cache(\"D:\\Projects\\F1 Tyre Deep Dive\\Cache\")"
   ]
  },
  {
   "cell_type": "markdown",
   "metadata": {},
   "source": [
    "## Load Dataframes"
   ]
  },
  {
   "cell_type": "code",
   "execution_count": 3,
   "metadata": {},
   "outputs": [],
   "source": [
    "df_laps_2021 = pd.read_csv(\"all_laps_2021.csv\", parse_dates=[\"LapStartDate\"], infer_datetime_format=True, index_col=0, header=0, true_values=[\"True\"], false_values=[\"False\"])\n",
    "df_laps_2022 = pd.read_csv(\"all_laps_2022.csv\", parse_dates=[\"LapStartDate\"], infer_datetime_format=True, index_col=0, header=0, true_values=[\"True\"], false_values=[\"False\"])"
   ]
  },
  {
   "cell_type": "code",
   "execution_count": 4,
   "metadata": {},
   "outputs": [],
   "source": [
    "df_laps_2021[[\"Time\", \"LapTime\", \"PitInTime\", \"PitOutTime\", \"Sector1Time\", \"Sector2Time\", \"Sector3Time\", \"Sector1SessionTime\", \"Sector2SessionTime\", \"Sector3SessionTime\", \"LapStartTime\"]] = df_laps_2021[[\"Time\", \"LapTime\", \"PitInTime\", \"PitOutTime\", \"Sector1Time\", \"Sector2Time\", \"Sector3Time\", \"Sector1SessionTime\", \"Sector2SessionTime\", \"Sector3SessionTime\", \"LapStartTime\"]].apply(pd.to_timedelta)\n",
    "df_laps_2022[[\"Time\", \"LapTime\", \"PitInTime\", \"PitOutTime\", \"Sector1Time\", \"Sector2Time\", \"Sector3Time\", \"Sector1SessionTime\", \"Sector2SessionTime\", \"Sector3SessionTime\", \"LapStartTime\"]] = df_laps_2022[[\"Time\", \"LapTime\", \"PitInTime\", \"PitOutTime\", \"Sector1Time\", \"Sector2Time\", \"Sector3Time\", \"Sector1SessionTime\", \"Sector2SessionTime\", \"Sector3SessionTime\", \"LapStartTime\"]].apply(pd.to_timedelta)"
   ]
  },
  {
   "cell_type": "markdown",
   "metadata": {},
   "source": [
    "## Global Variables"
   ]
  },
  {
   "cell_type": "code",
   "execution_count": 5,
   "metadata": {},
   "outputs": [],
   "source": [
    "num_rounds_2021 = df_laps_2021[\"RoundNumber\"].nunique()\n",
    "num_rounds_2022 = df_laps_2022[\"RoundNumber\"].nunique()"
   ]
  },
  {
   "cell_type": "markdown",
   "metadata": {},
   "source": [
    "## Data Transformation"
   ]
  },
  {
   "cell_type": "markdown",
   "metadata": {},
   "source": [
    "### Add Tyre Information Columns"
   ]
  },
  {
   "cell_type": "code",
   "execution_count": 6,
   "metadata": {},
   "outputs": [],
   "source": [
    "df_laps_2021[\"IsSlick\"] = df_laps_2021.apply(lambda row: row.loc[\"Compound\"] in [\"SOFT\", \"MEDIUM\", \"HARD\"], axis=1)\n",
    "df_laps_2022[\"IsSlick\"] = df_laps_2022.apply(lambda row: row.loc[\"Compound\"] in [\"SOFT\", \"MEDIUM\", \"HARD\"], axis=1)"
   ]
  },
  {
   "cell_type": "markdown",
   "metadata": {},
   "source": [
    "FastF1 provides relative compound information (soft, medium, hard) as the `Compound` column in its `Laps` objects\n",
    "\n",
    "The actual compound names (C1, C2, C3, C4, C5) needs to be added to main consistency. These will be recorded in the `CompoundName` column.\n",
    "\n",
    "Intermediate compound is denoted by `CompoundName = 6`. Wet Compound is denoted by `CompoundName = 7`. \n",
    "\n",
    "Compound selection logged as `RoundNumber: [soft_compound, medium_compound, hard_compound]` pairs"
   ]
  },
  {
   "cell_type": "code",
   "execution_count": 7,
   "metadata": {},
   "outputs": [],
   "source": [
    "# 2021 compound selection \n",
    "# Source: https://press.pirelli.com/2021-tyre-compound-choices/\n",
    "\n",
    "compound_selection_2021 = {1:[2,3,4],\n",
    "                           2:[2,3,4],\n",
    "                           3:[1,2,3],\n",
    "                           4:[1,2,3],\n",
    "                           5:[3,4,5],\n",
    "                           6:[3,4,5],\n",
    "                           7:[3,4,5],\n",
    "                           8:[2,3,4],\n",
    "                           9:[2,3,4],\n",
    "                           10:[1,2,3],\n",
    "                           11:[2,3,4],\n",
    "                           12:[2,3,4],\n",
    "                           13:[1,2,3],\n",
    "                           14:[2,3,4],\n",
    "                           15:[3,4,5],\n",
    "                           16:[3,4,5],\n",
    "                           17:[1,2,3],\n",
    "                           18:[2,3,4],\n",
    "                           19:[2,3,4],\n",
    "                           20:[2,3,4],\n",
    "                           21:[2,3,4],\n",
    "                           22:[2,3,4],\n",
    "                           23:[3,4,5]}"
   ]
  },
  {
   "cell_type": "code",
   "execution_count": 8,
   "metadata": {},
   "outputs": [],
   "source": [
    "# 2022 compound selection \n",
    "# Source: https://press.pirelli.com/2022-tyre-compound-choices--bahrain-saudi-arabia-australia/\n",
    "#         (Bahrain, Saudi, Australia)\n",
    "#         https://press.pirelli.com/2022-tyre-compound-choices--emilia-romagna-miami-spain-monaco/\n",
    "#         (Imola, Miami, Spain, Monaco)\n",
    "#         https://press.pirelli.com/2022-azerbaijan-grand-prix--preview/\n",
    "#         (Azerbaijian)\n",
    "#         https://press.pirelli.com/2022-canada-grand-prix---preview/\n",
    "#         (Canada)\n",
    "#         https://www.formula1.com/en/latest/article.what-tyres-will-the-teams-and-drivers-have-for-the-2022-british-grand-prix.5NSQn3DvP84qUkQIqltoxd.html\n",
    "#         (Silverstone)\n",
    "#         https://press.pirelli.com/2022-austrian-grand-prix---preview/\n",
    "#         (Austria)\n",
    "#         https://press.pirelli.com/2022-french-grand-prix--preview/\n",
    "#         (France)\n",
    "#         https://press.pirelli.com/2022-hungarian-grand-prix---preview/\n",
    "#         (Hungary)\n",
    "\n",
    "compound_selection_2022 = {1:[1,2,3],\n",
    "                           2:[3,4,5],\n",
    "                           3:[2,3,5],\n",
    "                           4:[2,3,4],\n",
    "                           5:[2,3,4],\n",
    "                           6:[1,2,3],\n",
    "                           7:[3,4,5],\n",
    "                           8:[3,4,5],\n",
    "                           9:[3,4,5],\n",
    "                           10:[1,2,3],\n",
    "                           11:[3,4,5],\n",
    "                           12:[2,3,4],\n",
    "                           13:[2,3,4]\n",
    "                          }"
   ]
  },
  {
   "cell_type": "code",
   "execution_count": 9,
   "metadata": {},
   "outputs": [],
   "source": [
    "def compound_relative_to_absolute(row, year):  \n",
    "    compound_to_index = {\"SOFT\":2, \"MEDIUM\":1, \"HARD\":0}\n",
    "    \n",
    "    if row.loc[\"Compound\"] not in compound_to_index:\n",
    "        return row.loc[\"Compound\"]\n",
    "    else:\n",
    "        if year == 2021:\n",
    "            if row.loc[\"Compound\"] in compound_to_index:\n",
    "                return 'C' + str(compound_selection_2021[row.loc[\"RoundNumber\"]][compound_to_index[row.loc[\"Compound\"]]])\n",
    "            else: \n",
    "                return np.nan\n",
    "        elif year == 2022:\n",
    "            if row.loc[\"Compound\"] in compound_to_index:\n",
    "                return 'C' + str(compound_selection_2022[row.loc[\"RoundNumber\"]][compound_to_index[row.loc[\"Compound\"]]])\n",
    "            else:\n",
    "                return np.nan\n",
    "        else:\n",
    "            raise ValueError(\"Year requested ({}) not available\".format(year))"
   ]
  },
  {
   "cell_type": "code",
   "execution_count": 10,
   "metadata": {},
   "outputs": [],
   "source": [
    "df_laps_2021[\"CompoundName\"] = df_laps_2021.apply(lambda row: compound_relative_to_absolute(row, 2021), axis=1)\n",
    "df_laps_2022[\"CompoundName\"] = df_laps_2022.apply(lambda row: compound_relative_to_absolute(row, 2022), axis=1)"
   ]
  },
  {
   "cell_type": "markdown",
   "metadata": {},
   "source": [
    "### Add Relative Timing Columns\n"
   ]
  },
  {
   "cell_type": "markdown",
   "metadata": {},
   "source": [
    "A \"representative lap time\" for the session is calculated by finding the median of the laps that meet the following condition:\n",
    "\n",
    "- Raced on slick tyres (`IsSlick = True`) (This definition is optional)\n",
    "- `IsAccurate = True`, see definition [here](https://theoehrly.github.io/Fast-F1/core.html#fastf1.core.Laps)\n",
    "- Is completed under green flag (`TrackStatus == 1`), note that this definition is stricter than the one used for `IsAccurate`\n",
    "\n",
    "Define \"valid laps\" as the laps that meet all above conditions. This is recorded in the new `IsValid` column.\n",
    "\n",
    "The representative lap time for each session is recorded in the `RepTime` column.\n",
    "\n",
    "The fastest lap time for the session is the fastest time out of the laps where `IsPersonalBest = True` ([definition](https://theoehrly.github.io/Fast-F1/core.html#laps)). Note that this is the same definiton used by the FastF1 `pick_fastest()` method.\n",
    "\n",
    "Using these two times as benchmarks, the following columns are added:\n",
    "\n",
    "- `DeltaToRep`\n",
    "- `DeltaToFastest`\n",
    "- `PctFromRep`\n",
    "- `PctFromFastest`\n",
    "- `SDFromRep` (Standard deviation calculated using valid laps only)\n",
    "\n",
    "The fastest lap time for each session is recorded in the `FastestTime` column.\n",
    "\n",
    "Caveat: The 2021 Turkish Grand Prix only has 1 valid lap, rendering these columns inaccurate. This is not a problem as 2021 Turkish Grand Prix is not a subject of interest for this analysis due to the same reason. All other sessions have at least 600 valid laps."
   ]
  },
  {
   "cell_type": "code",
   "execution_count": 11,
   "metadata": {},
   "outputs": [],
   "source": [
    "def check_lap_valid(row):\n",
    "    return row.loc[\"IsSlick\"] and row.loc[\"IsAccurate\"] and row.loc[\"TrackStatus\"] == 1"
   ]
  },
  {
   "cell_type": "code",
   "execution_count": 12,
   "metadata": {},
   "outputs": [],
   "source": [
    "df_laps_2021[\"IsValid\"] = df_laps_2021.apply(lambda row: check_lap_valid(row), axis=1)\n",
    "df_laps_2022[\"IsValid\"] = df_laps_2022.apply(lambda row: check_lap_valid(row), axis=1)"
   ]
  },
  {
   "cell_type": "code",
   "execution_count": 13,
   "metadata": {},
   "outputs": [
    {
     "name": "stderr",
     "output_type": "stream",
     "text": [
      "utils          INFO \tNote: NumExpr detected 12 cores but \"NUMEXPR_MAX_THREADS\" not set, so enforcing safe limit of 8.\n",
      "utils          INFO \tNumExpr defaulting to 8 threads.\n"
     ]
    }
   ],
   "source": [
    "rep_times_2021 = {i:df_laps_2021[(df_laps_2021[\"RoundNumber\"]==i) & (df_laps_2021[\"IsValid\"]==True)][\"LapTime\"].median(numeric_only=False) for i in range(1, num_rounds_2021+1)}\n",
    "rep_times_2022 = {i:df_laps_2022[(df_laps_2022[\"RoundNumber\"]==i) & (df_laps_2022[\"IsValid\"]==True)][\"LapTime\"].median(numeric_only=False) for i in range(1, num_rounds_2021+1)}"
   ]
  },
  {
   "cell_type": "code",
   "execution_count": 14,
   "metadata": {},
   "outputs": [],
   "source": [
    "fastest_times_2021 = {i:df_laps_2021[(df_laps_2021[\"RoundNumber\"]==i) & (df_laps_2021[\"IsPersonalBest\"] == True)][\"LapTime\"].min(numeric_only=False) for i in range(1, num_rounds_2021+1)}\n",
    "fastest_times_2022 = {i:df_laps_2022[(df_laps_2022[\"RoundNumber\"]==i) & (df_laps_2022[\"IsPersonalBest\"] == True)][\"LapTime\"].min(numeric_only=False) for i in range(1, num_rounds_2022+1)}"
   ]
  },
  {
   "cell_type": "code",
   "execution_count": 15,
   "metadata": {},
   "outputs": [],
   "source": [
    "df_laps_2021[\"DeltaToRep\"] = df_laps_2021.apply(lambda row: row.loc[\"LapTime\"] - rep_times_2021[row.loc[\"RoundNumber\"]], axis=1)\n",
    "df_laps_2022[\"DeltaToRep\"] = df_laps_2022.apply(lambda row: row.loc[\"LapTime\"] - rep_times_2022[row.loc[\"RoundNumber\"]], axis=1)"
   ]
  },
  {
   "cell_type": "code",
   "execution_count": 16,
   "metadata": {},
   "outputs": [],
   "source": [
    "df_laps_2021[\"DeltaToFastest\"] = df_laps_2021.apply(lambda row: row.loc[\"LapTime\"] - fastest_times_2021[row.loc[\"RoundNumber\"]], axis=1)\n",
    "df_laps_2022[\"DeltaToFastest\"] = df_laps_2022.apply(lambda row: row.loc[\"LapTime\"] - fastest_times_2022[row.loc[\"RoundNumber\"]], axis=1)"
   ]
  },
  {
   "cell_type": "code",
   "execution_count": 17,
   "metadata": {},
   "outputs": [],
   "source": [
    "df_laps_2021[\"PctFromRep\"] = df_laps_2021.apply(lambda row: round(row.loc[\"DeltaToRep\"] / rep_times_2021[row.loc[\"RoundNumber\"]] *100, 3), axis=1)\n",
    "df_laps_2022[\"PctFromRep\"] = df_laps_2022.apply(lambda row: round(row.loc[\"DeltaToRep\"] / rep_times_2022[row.loc[\"RoundNumber\"]] *100, 3), axis=1)"
   ]
  },
  {
   "cell_type": "code",
   "execution_count": 18,
   "metadata": {},
   "outputs": [],
   "source": [
    "df_laps_2021[\"PctFromFastest\"] = df_laps_2021.apply(lambda row: round(row.loc[\"DeltaToFastest\"] / fastest_times_2021[row.loc[\"RoundNumber\"]] *100, 3), axis=1)\n",
    "df_laps_2022[\"PctFromFastest\"] = df_laps_2022.apply(lambda row: round(row.loc[\"DeltaToFastest\"] / fastest_times_2022[row.loc[\"RoundNumber\"]] *100, 3), axis=1)"
   ]
  },
  {
   "cell_type": "markdown",
   "metadata": {},
   "source": [
    "Track evolution has a significant influence on lap times. As the most significant confounding variable that impacts all lap times, we must control for it. \n",
    "\n",
    "Two columns will be added for this purpose:\n",
    "\n",
    "- `DeltaToLapRep`\n",
    "- `PctFromLapRep`\n",
    "\n",
    "The definition for the per lap representative lap times is the same as the definition for the event representative lap time."
   ]
  },
  {
   "cell_type": "code",
   "execution_count": 19,
   "metadata": {},
   "outputs": [],
   "source": [
    "lap_reps_2021 = {}\n",
    "lap_reps_2022 = {}\n",
    "\n",
    "for round_number in pd.unique(df_laps_2021[\"RoundNumber\"]):\n",
    "    event_laps = df_laps_2021[df_laps_2021[\"RoundNumber\"] == round_number]\n",
    "    lap_numbers = pd.unique(event_laps[\"LapNumber\"])\n",
    "    event_laps = event_laps[event_laps[\"IsValid\"]==True]\n",
    "    event_lap_reps = {}\n",
    "    \n",
    "    for lap in lap_numbers:\n",
    "        event_lap_reps[lap] = event_laps[event_laps[\"LapNumber\"] == lap][\"LapTime\"].median()\n",
    "    \n",
    "    lap_reps_2021[round_number] = event_lap_reps\n",
    "    \n",
    "for round_number in pd.unique(df_laps_2022[\"RoundNumber\"]):\n",
    "    event_laps = df_laps_2022[df_laps_2022[\"RoundNumber\"] == round_number]\n",
    "    lap_numbers = pd.unique(event_laps[\"LapNumber\"])\n",
    "    event_laps = event_laps[event_laps[\"IsValid\"]==True]    \n",
    "    event_lap_reps = {}\n",
    "    \n",
    "    for lap in lap_numbers:\n",
    "        event_lap_reps[lap] = event_laps[event_laps[\"LapNumber\"] == lap][\"LapTime\"].median()\n",
    "    \n",
    "    lap_reps_2022[round_number] = event_lap_reps"
   ]
  },
  {
   "cell_type": "code",
   "execution_count": 20,
   "metadata": {},
   "outputs": [],
   "source": [
    "df_laps_2021[\"DeltaToLapRep\"] = df_laps_2021.apply(lambda row: row.loc[\"LapTime\"] - lap_reps_2021[row.loc[\"RoundNumber\"]][row.loc[\"LapNumber\"]], axis=1)\n",
    "df_laps_2022[\"DeltaToLapRep\"] = df_laps_2022.apply(lambda row: row.loc[\"LapTime\"] - lap_reps_2022[row.loc[\"RoundNumber\"]][row.loc[\"LapNumber\"]], axis=1)"
   ]
  },
  {
   "cell_type": "code",
   "execution_count": 21,
   "metadata": {},
   "outputs": [],
   "source": [
    "df_laps_2021[\"PctFromLapRep\"] = df_laps_2021.apply(lambda row: round(row.loc[\"DeltaToLapRep\"] / lap_reps_2021[row.loc[\"RoundNumber\"]][row.loc[\"LapNumber\"]] * 100, 3), axis=1)\n",
    "df_laps_2022[\"PctFromLapRep\"] = df_laps_2022.apply(lambda row: round(row.loc[\"DeltaToLapRep\"] / lap_reps_2022[row.loc[\"RoundNumber\"]][row.loc[\"LapNumber\"]] * 100, 3), axis=1)"
   ]
  },
  {
   "cell_type": "markdown",
   "metadata": {},
   "source": [
    "## Export To CSV"
   ]
  },
  {
   "cell_type": "code",
   "execution_count": 22,
   "metadata": {},
   "outputs": [
    {
     "data": {
      "text/plain": [
       "Index(['Time', 'DriverNumber', 'LapTime', 'LapNumber', 'Stint', 'PitOutTime',\n",
       "       'PitInTime', 'Sector1Time', 'Sector2Time', 'Sector3Time',\n",
       "       'Sector1SessionTime', 'Sector2SessionTime', 'Sector3SessionTime',\n",
       "       'SpeedI1', 'SpeedI2', 'SpeedFL', 'SpeedST', 'IsPersonalBest',\n",
       "       'Compound', 'TyreLife', 'FreshTyre', 'LapStartTime', 'Team', 'Driver',\n",
       "       'TrackStatus', 'IsAccurate', 'LapStartDate', 'RoundNumber', 'EventName',\n",
       "       'IsSlick', 'CompoundName', 'IsValid', 'DeltaToRep', 'DeltaToFastest',\n",
       "       'PctFromRep', 'PctFromFastest', 'DeltaToLapRep', 'PctFromLapRep'],\n",
       "      dtype='object')"
      ]
     },
     "execution_count": 22,
     "metadata": {},
     "output_type": "execute_result"
    }
   ],
   "source": [
    "df_laps_2021.columns"
   ]
  },
  {
   "cell_type": "code",
   "execution_count": 23,
   "metadata": {},
   "outputs": [],
   "source": [
    "df_laps_2021.to_csv(\"transformed_laps_2021.csv\")\n",
    "df_laps_2022.to_csv(\"transformed_laps_2022.csv\")"
   ]
  }
 ],
 "metadata": {
  "kernelspec": {
   "display_name": "Python 3",
   "language": "python",
   "name": "python3"
  },
  "language_info": {
   "codemirror_mode": {
    "name": "ipython",
    "version": 3
   },
   "file_extension": ".py",
   "mimetype": "text/x-python",
   "name": "python",
   "nbconvert_exporter": "python",
   "pygments_lexer": "ipython3",
   "version": "3.8.5"
  }
 },
 "nbformat": 4,
 "nbformat_minor": 4
}
