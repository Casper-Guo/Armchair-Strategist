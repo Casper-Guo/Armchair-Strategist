{
 "cells": [
  {
   "cell_type": "markdown",
   "metadata": {},
   "source": [
    "# Warning\n",
    "\n",
    "You should ***not*** use `run all` in this notebook. \n",
    "\n",
    "Run the following five cells first."
   ]
  },
  {
   "cell_type": "code",
   "execution_count": null,
   "metadata": {},
   "outputs": [],
   "source": [
    "import numpy as np\n",
    "import pandas as pd \n",
    "import matplotlib.pyplot as plt\n",
    "import seaborn as sns \n",
    "import fastf1 as f \n",
    "import os\n",
    "from datetime import datetime"
   ]
  },
  {
   "cell_type": "code",
   "execution_count": null,
   "metadata": {},
   "outputs": [],
   "source": [
    "# default to creating a cache directory within the current directory\n",
    "cache_path = os.getcwd() + \"\\\\Cache\""
   ]
  },
  {
   "cell_type": "code",
   "execution_count": null,
   "metadata": {},
   "outputs": [],
   "source": [
    "print('A cache for loading FastF1 data will be created in this directory: {}'.format(cache_path))\n",
    "response = ''\n",
    "    \n",
    "while (response != 'Y' and response != 'N'):\n",
    "    response = input(\"Enter Y to continue or N to terminate running and reset cache path.\")\n",
    "    if response == 'N':\n",
    "        # Trigger assertion error to terminate cell \n",
    "        assert False"
   ]
  },
  {
   "cell_type": "code",
   "execution_count": null,
   "metadata": {},
   "outputs": [],
   "source": [
    "f.Cache.enable_cache(cache_path)"
   ]
  },
  {
   "cell_type": "code",
   "execution_count": null,
   "metadata": {},
   "outputs": [],
   "source": [
    "schedule_2021 = f.get_event_schedule(2021)\n",
    "schedule_2022 = f.get_event_schedule(2022)"
   ]
  },
  {
   "cell_type": "markdown",
   "metadata": {},
   "source": [
    "Now, decide whether you should run the first time loading section or the incremental load section."
   ]
  },
  {
   "cell_type": "markdown",
   "metadata": {},
   "source": [
    "## First Time Loading\n",
    "\n",
    "*If you have loaded the data before and is adding new grand prix in 2022 only, skip to the incremental load section*\n",
    "\n",
    "***Only run one of these two sections!***"
   ]
  },
  {
   "cell_type": "code",
   "execution_count": null,
   "metadata": {},
   "outputs": [],
   "source": [
    "num_rounds_2021 = 22"
   ]
  },
  {
   "cell_type": "code",
   "execution_count": null,
   "metadata": {},
   "outputs": [],
   "source": [
    "race_dfs = []\n",
    "\n",
    "for i in range(1, num_rounds_2021+1):\n",
    "    race = f.get_session(2021, i, 'R')\n",
    "    race.load()\n",
    "    laps = race.laps\n",
    "    laps[\"RoundNumber\"] = i\n",
    "    laps[\"EventName\"] = schedule_2021[schedule_2021[\"RoundNumber\"] == i][\"EventName\"].item()\n",
    "    race_dfs.append(laps)\n",
    "\n",
    "all_laps_2021 = pd.concat(race_dfs, ignore_index=True)"
   ]
  },
  {
   "cell_type": "code",
   "execution_count": null,
   "metadata": {},
   "outputs": [],
   "source": [
    "all_laps_2021.to_csv(\"all_laps_2021.csv\")"
   ]
  },
  {
   "cell_type": "code",
   "execution_count": null,
   "metadata": {},
   "outputs": [],
   "source": [
    "# Find the number of rounds of the 2022 season that has happened already\n",
    "num_rounds_2022 = schedule_2022[schedule_2022[\"EventDate\"] < datetime.now()][\"RoundNumber\"].max()"
   ]
  },
  {
   "cell_type": "code",
   "execution_count": null,
   "metadata": {},
   "outputs": [],
   "source": [
    "race_dfs = []\n",
    "\n",
    "for i in range(1, num_rounds_2022 + 1):\n",
    "    race = f.get_session(2022, i, 'R')\n",
    "    race.load()\n",
    "    laps = race.laps\n",
    "    laps[\"RoundNumber\"] = i\n",
    "    laps[\"EventName\"] = schedule_2022.loc[schedule_2022[\"RoundNumber\"] == i][\"EventName\"].item()\n",
    "    race_dfs.append(laps)\n",
    "\n",
    "all_laps_2022 = pd.concat(race_dfs, ignore_index=True)"
   ]
  },
  {
   "cell_type": "code",
   "execution_count": null,
   "metadata": {},
   "outputs": [],
   "source": [
    "all_laps_2022.to_csv(\"all_laps_2022.csv\")"
   ]
  },
  {
   "cell_type": "markdown",
   "metadata": {},
   "source": [
    "## Incremental Load\n",
    "\n",
    "For updating 2022 data"
   ]
  },
  {
   "cell_type": "code",
   "execution_count": null,
   "metadata": {},
   "outputs": [],
   "source": [
    "all_laps_2022 = pd.read_csv(\"all_laps_2022.csv\", parse_dates=[\"LapStartDate\"], infer_datetime_format=True, index_col=0, header=0, true_values=[\"True\"], false_values=[\"False\"])\n",
    "all_laps_2022[[\"Time\", \"LapTime\", \"PitInTime\", \"PitOutTime\", \"Sector1Time\", \"Sector2Time\", \"Sector3Time\", \"Sector1SessionTime\", \"Sector2SessionTime\", \"Sector3SessionTime\", \"LapStartTime\"]] = all_laps_2022[[\"Time\", \"LapTime\", \"PitInTime\", \"PitOutTime\", \"Sector1Time\", \"Sector2Time\", \"Sector3Time\", \"Sector1SessionTime\", \"Sector2SessionTime\", \"Sector3SessionTime\", \"LapStartTime\"]].apply(pd.to_timedelta)"
   ]
  },
  {
   "cell_type": "code",
   "execution_count": null,
   "metadata": {},
   "outputs": [],
   "source": [
    "loaded_round_numbers = pd.unique(all_laps_2022[\"RoundNumber\"])\n",
    "newest_round_number = schedule_2022[schedule_2022[\"EventDate\"] < datetime.now()][\"RoundNumber\"].max()"
   ]
  },
  {
   "cell_type": "code",
   "execution_count": null,
   "metadata": {},
   "outputs": [],
   "source": [
    "race_dfs = [all_laps_2022]\n",
    "\n",
    "for i in range(1, newest_round_number+1):\n",
    "    if i not in loaded_round_numbers:\n",
    "        race = f.get_session(2022, i, 'R')\n",
    "        race.load()\n",
    "        laps = race.laps\n",
    "        laps[\"RoundNumber\"] = i\n",
    "        laps[\"EventName\"] = schedule_2022.loc[schedule_2022[\"RoundNumber\"] == i][\"EventName\"].item()\n",
    "        race_dfs.append(laps)\n",
    "\n",
    "all_laps_2022 = pd.concat(race_dfs, ignore_index=True)"
   ]
  },
  {
   "cell_type": "code",
   "execution_count": null,
   "metadata": {},
   "outputs": [],
   "source": [
    "all_laps_2022.to_csv(\"all_laps_2022.csv\")"
   ]
  }
 ],
 "metadata": {
  "kernelspec": {
   "display_name": "Python 3",
   "language": "python",
   "name": "python3"
  },
  "language_info": {
   "codemirror_mode": {
    "name": "ipython",
    "version": 3
   },
   "file_extension": ".py",
   "mimetype": "text/x-python",
   "name": "python",
   "nbconvert_exporter": "python",
   "pygments_lexer": "ipython3",
   "version": "3.8.5"
  }
 },
 "nbformat": 4,
 "nbformat_minor": 4
}
